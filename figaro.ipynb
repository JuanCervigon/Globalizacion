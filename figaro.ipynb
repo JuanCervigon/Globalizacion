{
  "nbformat": 4,
  "nbformat_minor": 0,
  "metadata": {
    "colab": {
      "provenance": [],
      "authorship_tag": "ABX9TyPWEvLvZiNEEqy9qqwRjoaA",
      "include_colab_link": true
    },
    "kernelspec": {
      "name": "python3",
      "display_name": "Python 3"
    },
    "language_info": {
      "name": "python"
    }
  },
  "cells": [
    {
      "cell_type": "markdown",
      "metadata": {
        "id": "view-in-github",
        "colab_type": "text"
      },
      "source": [
        "<a href=\"https://colab.research.google.com/github/JuanCervigon/Globalizacion/blob/main/figaro.ipynb\" target=\"_parent\"><img src=\"https://colab.research.google.com/assets/colab-badge.svg\" alt=\"Open In Colab\"/></a>"
      ]
    },
    {
      "cell_type": "markdown",
      "source": [
        "# Introducción\n",
        "\n",
        "* Importar las librerías necesarias\n",
        "* Leer figaro largo"
      ],
      "metadata": {
        "id": "E6FbGmaiblLY"
      }
    },
    {
      "cell_type": "code",
      "source": [
        "# Importar librerías necesarias\n",
        "import pandas as pd\n",
        "import numpy as np\n",
        "from numpy.linalg import inv"
      ],
      "metadata": {
        "id": "nlPv69HmCiIo"
      },
      "execution_count": 1,
      "outputs": []
    },
    {
      "cell_type": "code",
      "execution_count": 2,
      "metadata": {
        "colab": {
          "base_uri": "https://localhost:8080/"
        },
        "id": "MJNrzWkKbcv9",
        "outputId": "ad108fe3-7b62-4aac-ac19-56a8becfd97c"
      },
      "outputs": [
        {
          "output_type": "stream",
          "name": "stdout",
          "text": [
            "Mounted at /content/drive\n"
          ]
        }
      ],
      "source": [
        "# Conectar con Drive\n",
        "from google.colab import drive\n",
        "drive.mount('/content/drive')"
      ]
    },
    {
      "cell_type": "code",
      "source": [
        "# Leer figaro\n",
        "ruta='/content/drive/MyDrive/Figaro/flatfile_eu-ic-io_ind-by-ind_23ed_2021.csv'\n",
        "figaro=pd.read_csv(ruta)"
      ],
      "metadata": {
        "id": "zVcFk8Q3b5zD"
      },
      "execution_count": 3,
      "outputs": []
    },
    {
      "cell_type": "markdown",
      "source": [
        "# Crear nuevas columnas figaro\n",
        "\n",
        "* fila: mapeo geo + cnae\n",
        "* columna: mapeo geo + cnae\n",
        "* geo_fila: mapeo geo\n",
        "* geo_columna: mapeo geo\n",
        "* Tipo_celda: func vectorizada. ci, df, va, op\n",
        "* XobsValue: np.where(refArea=counterpartArea, 0, obsValue)\n"
      ],
      "metadata": {
        "id": "7LMtUaTmcOZY"
      }
    },
    {
      "cell_type": "code",
      "source": [
        "# Crear fila, columna, geo_fila, geo_columna, tipo_celda, XobsValue\n",
        "\n",
        "# Leer el fichero excel de mapeo\n",
        "mapeo='/content/drive/MyDrive/Figaro/m_paises_21cnae.xlsx'\n",
        "\n",
        "fgeo=pd.read_excel(mapeo,'fgeo').set_index('cod')\n",
        "fnace=pd.read_excel(mapeo,'fnace').set_index('cod')\n",
        "cgeo=pd.read_excel(mapeo,'cgeo').set_index('cod')\n",
        "cnace=pd.read_excel(mapeo,'cnace').set_index('cod')\n",
        "\n",
        "# Convertir convertir los mapeos en diccionarios\n",
        "\n",
        "fgeo=dict(fgeo.to_dict()['map'])\n",
        "fnace=dict(fnace.to_dict()['map'])\n",
        "cgeo=dict(cgeo.to_dict()['map'])\n",
        "cnace=dict(cnace.to_dict()['map'])\n",
        "\n",
        "# Crear las nuevas columnas con .map()\n",
        "\n",
        "figaro['fila']=figaro.refArea.map(fgeo)+'_'+figaro.rowIi.map(fnace)\n",
        "figaro['columna']=figaro.counterpartArea.map(cgeo)+'_'+figaro.colIi.map(cnace)\n",
        "figaro['geo_fila']=figaro.refArea.map(fgeo)\n",
        "figaro['geo_columna']=figaro.counterpartArea.map(cgeo)\n",
        "\n",
        "# Clasificar las celdas en ci, va, df y op\n",
        "\n",
        "# Crear una función que devuelve el tipo de celda en función de refArea, colIi\n",
        "def clasifica(refArea,colIi):\n",
        "    tipo = (\n",
        "          \"op\" if (refArea=='W2') & (colIi[:2]=='P3'or colIi[:2]=='P5')\n",
        "    else  \"va\"  if (refArea=='W2')\n",
        "    else  \"df\"  if (colIi[:2]=='P3'or colIi[:2]=='P5')\n",
        "    else \"ci\"\n",
        "    )\n",
        "\n",
        "    return tipo\n",
        "\n",
        "# Vectorizar la función\n",
        "func = np.vectorize(clasifica)\n",
        "\n",
        "# Crear la columna tipo_celda a partir de la función vectorizada\n",
        "figaro[\"tipo_celda\"] = func(figaro.refArea,figaro.colIi)\n",
        "\n",
        "# Crear la columna XobsValue, que vale cero cuando geo_fila=geo_columna y obsValue en caso contrario\n",
        "figaro['XobsValue']=np.where(figaro['refArea']==figaro['counterpartArea'],0,figaro['obsValue'])"
      ],
      "metadata": {
        "id": "G5kiEmWhdGEX"
      },
      "execution_count": 4,
      "outputs": []
    },
    {
      "cell_type": "code",
      "source": [
        "# Comprobar que se han creado las columnas\n",
        "figaro.columns"
      ],
      "metadata": {
        "colab": {
          "base_uri": "https://localhost:8080/"
        },
        "id": "_F-3Sj5CJpHN",
        "outputId": "f39b368a-0d0d-45ba-ba89-d91a83ddedfe"
      },
      "execution_count": null,
      "outputs": [
        {
          "output_type": "execute_result",
          "data": {
            "text/plain": [
              "Index(['icioiRow', 'icioiCol', 'refArea', 'rowIi', 'counterpartArea', 'colIi',\n",
              "       'obsValue', 'fila', 'columna', 'geo_fila', 'geo_columna', 'tipo_celda',\n",
              "       'XobsValue'],\n",
              "      dtype='object')"
            ]
          },
          "metadata": {},
          "execution_count": 87
        }
      ]
    },
    {
      "cell_type": "markdown",
      "source": [
        "# Guardar figaro en formato excel"
      ],
      "metadata": {
        "id": "_9ukDUN3fKDh"
      }
    },
    {
      "cell_type": "code",
      "source": [
        "# Crear la matriz colapsando los valores por las fila y columna\n",
        "\n",
        "figaro_matriz=figaro.pivot_table(values='obsValue', index=\"fila\", columns=\"columna\", aggfunc='sum',sort=False)\n",
        "\n",
        "# Definir la ruta del fichero excel\n",
        "ruta_excel='f_paises_21.xlsx'\n",
        "\n",
        "# Guardar el fichero excel\n",
        "figaro_matriz.to_excel(f'/content/drive/MyDrive/Figaro/{ruta_excel}')\n"
      ],
      "metadata": {
        "id": "Lum5ShjMfHFh"
      },
      "execution_count": null,
      "outputs": []
    },
    {
      "cell_type": "markdown",
      "source": [
        "# Extraer matrices\n",
        "\n",
        "* Bilateral Trade Flows, pais-pais, BTR\n",
        "* Bilateral Trade Flows, GRTR\n",
        "* Valor añadido, w\n",
        "* Producción total, x\n",
        "* Ratio valor añadido por rama de actividad, v\n",
        "* Consumos intermedios, z\n",
        "* demanda final, y\n"
      ],
      "metadata": {
        "id": "FGrAxVhIgpNC"
      }
    },
    {
      "cell_type": "markdown",
      "source": [
        "## Bilateral Trade Flows, pais-pais, BTR"
      ],
      "metadata": {
        "id": "Oo2eb0G3LqrM"
      }
    },
    {
      "cell_type": "code",
      "source": [
        "# Crear un dataframe con las exportaciones de geo_fila a geo_columna\n",
        "BTR = figaro.loc[(figaro['tipo_celda']) == 'ci'].\\\n",
        "      groupby(['geo_fila','geo_columna'])['XobsValue'].\\\n",
        "      sum().reset_index()"
      ],
      "metadata": {
        "id": "td82MNFFLpxV"
      },
      "execution_count": 12,
      "outputs": []
    },
    {
      "cell_type": "markdown",
      "source": [
        "## Bilateral Trade Flows, GRTF\n",
        "\n",
        "Gross Total Trade Flows de Consumos Intermedios, Demanda Final y Total\n",
        "\n",
        "* GRTF_INT, Gross Intermediate Trade Flows\n",
        "* GRTF_FNL, Gross Final Trade Flows\n",
        "* GRTF, Gross Total Trade Flows"
      ],
      "metadata": {
        "id": "8drNr-LxgL98"
      }
    },
    {
      "cell_type": "code",
      "source": [
        "# Seleccionar celdas de consumos intermedios\n",
        "grtr_int_largo=figaro.loc[(figaro['tipo_celda']=='ci'),\\\n",
        "                    ['fila','geo_columna','XobsValue']]\n",
        "\n",
        "# Crear una matriz agregando los 'obsValue' por 'ci'\n",
        "\n",
        "grtr_int=grtr_int_largo.pivot_table(\n",
        "         values='XobsValue', index=\"fila\",\n",
        "         aggfunc='sum',sort=False)\n",
        "\n",
        "# Seleccionar celdas de demanda final\n",
        "grtr_fnl_largo=figaro.loc[(figaro['tipo_celda']=='df'),\n",
        "                    ['fila','geo_columna','XobsValue']]\n",
        "\n",
        "# Crear una matriz agregando los 'XobsValue' por 'df'\n",
        "\n",
        "grtr_fnl=grtr_fnl_largo.pivot_table(\n",
        "         values='XobsValue', index=\"fila\",\n",
        "         aggfunc='sum',sort=False)\n",
        "\n",
        "# Seleccionar celdas de consumos intermedios y demanda final\n",
        "grtr_largo=figaro.loc[(figaro['tipo_celda']=='ci')|(figaro['tipo_celda']=='df'),\n",
        "                    ['fila','geo_columna','XobsValue']]\n",
        "\n",
        "# Crear una matriz agregando los 'XobsValue' por 'ci'+'df'\n",
        "\n",
        "grtr=grtr_largo.pivot_table(\n",
        "          values='XobsValue', index=\"fila\",\n",
        "          aggfunc='sum',sort=False)\n"
      ],
      "metadata": {
        "id": "_lv1GgWIgZfi"
      },
      "execution_count": 17,
      "outputs": []
    },
    {
      "cell_type": "markdown",
      "source": [
        "## Valor añadido, w\n",
        "\n",
        "* w = impuestos producción+ remuneración asalariados+rentas mixtas\n",
        "* w = D21X31 + D1 + B2A3G\n",
        "* Dimensión  1 x 𝑁𝐾\n",
        "\n",
        "Hay que hacer dos operaciones sobre `figaro`:\n",
        "\n",
        "* Filtrar las celdas de valor añadido (.loc)\n",
        "* Crear la matriz (pivot_table)\n"
      ],
      "metadata": {
        "id": "3q_us2wrkiTp"
      }
    },
    {
      "cell_type": "code",
      "source": [
        "w_largo=figaro.loc[(figaro['tipo_celda']=='va'),\\\n",
        "                   ['tipo_celda','columna','obsValue']]\n",
        "\n",
        "w=w_largo.pivot_table(values='obsValue', index=\"tipo_celda\", \\\n",
        "                                columns='columna', \\\n",
        "                                aggfunc='sum',sort=False)\n"
      ],
      "metadata": {
        "id": "h_jwzLDcf-Yx"
      },
      "execution_count": 21,
      "outputs": []
    },
    {
      "cell_type": "markdown",
      "source": [
        "## Producción Total, x\n",
        "\n",
        "La producción total por ramas de actividad es la suma de las columnas (o de las filas) de la matriz de figaro\n",
        "\n",
        "* x = suma de las columnas. Consumos Intermedios + Valor añadido\n",
        "* Dimensión 1 x $NK$\n",
        "* Alternativamente: x = suma de las filas. Consumos Intermedios + demanda final\n",
        "\n",
        "\n",
        "Hay que hacer dos operaciones sobre `figaro`:\n",
        "\n",
        "* Filtrar las celdas de Consumos Intermedios y Valor añadido (.loc)\n",
        "* Crear la matriz (pivot_table) sumando obsValue por filas y columnas\n",
        "* Sumar todas las columnas (sum(axis=0)"
      ],
      "metadata": {
        "id": "YyvbQtN3n1xA"
      }
    },
    {
      "cell_type": "code",
      "source": [
        "x_largo=figaro.loc[\n",
        "  (figaro['tipo_celda']=='ci') |(figaro['tipo_celda']=='va'),\n",
        "  ['fila','columna','obsValue']]\n",
        "\n",
        "ci_va=x_largo.pivot_table(values='obsValue', index=\"fila\", \\\n",
        "                                columns='columna', \\\n",
        "                                aggfunc='sum',sort=False)\n",
        "x=ci_va.sum(axis=0)"
      ],
      "metadata": {
        "id": "wvqjtT5Im-rW"
      },
      "execution_count": 22,
      "outputs": []
    },
    {
      "cell_type": "markdown",
      "source": [
        "## Ratio valor añadido por rama de actividad, v\n",
        "\n",
        "Es el cociente entre el valor añadido y el total producido, w/x\n",
        "\n",
        "\n",
        "Dimension: $1$x$NK$"
      ],
      "metadata": {
        "id": "drIcTV4SsO07"
      }
    },
    {
      "cell_type": "code",
      "source": [
        "# Calcular v=w/x. Devuelve un dataframe\n",
        "v = np.divide(w, x)\n",
        "v.fillna(0, inplace=True)"
      ],
      "metadata": {
        "id": "wVOsUNOQgmKc"
      },
      "execution_count": 74,
      "outputs": []
    },
    {
      "cell_type": "markdown",
      "source": [
        "## Consumos intermedios, z\n",
        "\n",
        "* Seleccionar las celdas de consumos intermedios y agrupar por fila y columna\n",
        "* Dimensión  𝑁𝐾 x 𝑁𝐾"
      ],
      "metadata": {
        "id": "So0hVtDCss83"
      }
    },
    {
      "cell_type": "code",
      "source": [
        "z_largo=figaro.loc[\n",
        "  (figaro['tipo_celda']=='ci'), ['fila','columna','obsValue']]\n",
        "\n",
        "  # Crear la matriz\n",
        "z=z_largo.pivot_table(values='obsValue', index=\"fila\",\n",
        "          columns='columna', aggfunc='sum',sort=False)"
      ],
      "metadata": {
        "id": "dRJWHVCUtAgl"
      },
      "execution_count": 24,
      "outputs": []
    },
    {
      "cell_type": "markdown",
      "source": [
        "## Demanda final, y\n",
        "\n",
        "* Es la extracción directa de las celdas de la demanda final\n",
        "* Seleccionar las celdas 'df'\n",
        "* Agrupar por fila y columna\n",
        "* Dimensión 𝑁𝐾 x (𝑁𝑥5)\n",
        "\n"
      ],
      "metadata": {
        "id": "tfYjNyZvttAW"
      }
    },
    {
      "cell_type": "code",
      "source": [
        "y_largo=figaro.loc[\n",
        "  (figaro['tipo_celda']=='df'), ['fila','columna','obsValue']]\n",
        "\n",
        "y=y_largo.pivot_table(values='obsValue', index=\"fila\",\n",
        "          columns='columna', aggfunc='sum',sort=False)\n"
      ],
      "metadata": {
        "id": "C5UI6kIlti8r"
      },
      "execution_count": 25,
      "outputs": []
    },
    {
      "cell_type": "markdown",
      "source": [
        "# Calculo de indicadores"
      ],
      "metadata": {
        "id": "1WGT4oQ3vHle"
      }
    },
    {
      "cell_type": "markdown",
      "source": [
        "## Inversa de Leontief\n",
        "\n",
        "* B=(I-A)-1, donde A es la matriz de coeficientes"
      ],
      "metadata": {
        "id": "NphHnV4fvKJA"
      }
    },
    {
      "cell_type": "code",
      "source": [
        "# Calcular la inversa de Leontieff\n",
        "\n",
        "A = np.divide(z, x) # Calcular los coeficientes\n",
        "A.fillna(0, inplace=True) # Sustituir los NaN por ceros\n",
        "I_menos_A=np.identity(A.shape[0])-A # Calcular I-A\n",
        "B = inv(I_menos_A) # Calcular B =  inversa de I-A"
      ],
      "metadata": {
        "id": "-LDKvYWwhK5J"
      },
      "execution_count": 69,
      "outputs": []
    },
    {
      "cell_type": "code",
      "source": [
        "# Convertir la matriz B en un dataframe con las filas y columnas de A\n",
        "B = pd.DataFrame(B, columns=A.columns, index=A.index)"
      ],
      "metadata": {
        "id": "hfRsS0Q3mhwb"
      },
      "execution_count": 71,
      "outputs": []
    },
    {
      "cell_type": "markdown",
      "source": [
        "## Valor añadido generado por las exportaciones\n",
        "\n",
        "Es el producto de tres matrices, ratio va/producción x Leontief x GRTR diagonalizada\n",
        "\n",
        "* Fórmula $v*B*GRTR$_$FNL$\n",
        "* dimensión 1xNK = (1xNK)(NKxNK)(NKxNK)\n",
        "\n",
        "\n"
      ],
      "metadata": {
        "id": "RaWF1KgnvU17"
      }
    },
    {
      "cell_type": "code",
      "source": [
        "# Filtrar las filas y columnas de v, B y grtr empiezan por \"ES\"\n",
        "B_ES = B.filter(like='ES', axis=0).filter(like='ES', axis=1)\n",
        "v_ES = v.filter(like='ES', axis=1)\n",
        "grtr_ES = grtr.filter(like='ES', axis=0)"
      ],
      "metadata": {
        "id": "oYdYp99mm31x"
      },
      "execution_count": 75,
      "outputs": []
    },
    {
      "cell_type": "code",
      "source": [
        "# Crear una matriz de ceros con grtr en la diagonal\n",
        "grtr_ES_d = np.zeros((len(grtr_ES),len(grtr_ES)))\n",
        "diagonal=grtr_ES.values\n",
        "np.fill_diagonal(grtr_ES_d, diagonal)"
      ],
      "metadata": {
        "id": "ibz9Q6HN58uz"
      },
      "execution_count": 76,
      "outputs": []
    },
    {
      "cell_type": "code",
      "source": [
        "# Calcular el contenido de valor añadido de las exportaciones españolas por rama\n",
        "# Multiplicar las matrices v_ES , B_ES y grtr_ES_d\n",
        "\n",
        "va_ES_exp = np.dot(np.dot(v_ES, B_ES), grtr_ES_d)\n"
      ],
      "metadata": {
        "id": "uHQRpNnA9SeY"
      },
      "execution_count": 87,
      "outputs": []
    },
    {
      "cell_type": "code",
      "source": [
        "va_ES_exp = pd.DataFrame(va_ES_exp, columns=v_ES.columns).transpose()\n",
        "va_ES_exp\n"
      ],
      "metadata": {
        "colab": {
          "base_uri": "https://localhost:8080/",
          "height": 739
        },
        "id": "-0ByU1Kw-sBS",
        "outputId": "aff4e576-c489-468e-be2e-0351cf90e775"
      },
      "execution_count": 89,
      "outputs": [
        {
          "output_type": "execute_result",
          "data": {
            "text/plain": [
              "                     0\n",
              "columna               \n",
              "ES_A      17094.959111\n",
              "ES_B       2190.639697\n",
              "ES_C     124877.444865\n",
              "ES_D        782.673683\n",
              "ES_E       1785.265789\n",
              "ES_F       2013.013799\n",
              "ES_G      51739.789439\n",
              "ES_H      16575.797129\n",
              "ES_I       5556.455438\n",
              "ES_J      12919.636027\n",
              "ES_K       6591.569147\n",
              "ES_L        306.179212\n",
              "ES_M      14813.461939\n",
              "ES_N       6857.558140\n",
              "ES_O       2309.949349\n",
              "ES_P        418.908733\n",
              "ES_Q        334.763028\n",
              "ES_R        787.950180\n",
              "ES_S        559.921589\n",
              "ES_T          0.000000\n",
              "ES_U          0.000000"
            ],
            "text/html": [
              "\n",
              "  <div id=\"df-5618d7f5-e4e9-4bb7-852d-55f61f44d4fe\" class=\"colab-df-container\">\n",
              "    <div>\n",
              "<style scoped>\n",
              "    .dataframe tbody tr th:only-of-type {\n",
              "        vertical-align: middle;\n",
              "    }\n",
              "\n",
              "    .dataframe tbody tr th {\n",
              "        vertical-align: top;\n",
              "    }\n",
              "\n",
              "    .dataframe thead th {\n",
              "        text-align: right;\n",
              "    }\n",
              "</style>\n",
              "<table border=\"1\" class=\"dataframe\">\n",
              "  <thead>\n",
              "    <tr style=\"text-align: right;\">\n",
              "      <th></th>\n",
              "      <th>0</th>\n",
              "    </tr>\n",
              "    <tr>\n",
              "      <th>columna</th>\n",
              "      <th></th>\n",
              "    </tr>\n",
              "  </thead>\n",
              "  <tbody>\n",
              "    <tr>\n",
              "      <th>ES_A</th>\n",
              "      <td>17094.959111</td>\n",
              "    </tr>\n",
              "    <tr>\n",
              "      <th>ES_B</th>\n",
              "      <td>2190.639697</td>\n",
              "    </tr>\n",
              "    <tr>\n",
              "      <th>ES_C</th>\n",
              "      <td>124877.444865</td>\n",
              "    </tr>\n",
              "    <tr>\n",
              "      <th>ES_D</th>\n",
              "      <td>782.673683</td>\n",
              "    </tr>\n",
              "    <tr>\n",
              "      <th>ES_E</th>\n",
              "      <td>1785.265789</td>\n",
              "    </tr>\n",
              "    <tr>\n",
              "      <th>ES_F</th>\n",
              "      <td>2013.013799</td>\n",
              "    </tr>\n",
              "    <tr>\n",
              "      <th>ES_G</th>\n",
              "      <td>51739.789439</td>\n",
              "    </tr>\n",
              "    <tr>\n",
              "      <th>ES_H</th>\n",
              "      <td>16575.797129</td>\n",
              "    </tr>\n",
              "    <tr>\n",
              "      <th>ES_I</th>\n",
              "      <td>5556.455438</td>\n",
              "    </tr>\n",
              "    <tr>\n",
              "      <th>ES_J</th>\n",
              "      <td>12919.636027</td>\n",
              "    </tr>\n",
              "    <tr>\n",
              "      <th>ES_K</th>\n",
              "      <td>6591.569147</td>\n",
              "    </tr>\n",
              "    <tr>\n",
              "      <th>ES_L</th>\n",
              "      <td>306.179212</td>\n",
              "    </tr>\n",
              "    <tr>\n",
              "      <th>ES_M</th>\n",
              "      <td>14813.461939</td>\n",
              "    </tr>\n",
              "    <tr>\n",
              "      <th>ES_N</th>\n",
              "      <td>6857.558140</td>\n",
              "    </tr>\n",
              "    <tr>\n",
              "      <th>ES_O</th>\n",
              "      <td>2309.949349</td>\n",
              "    </tr>\n",
              "    <tr>\n",
              "      <th>ES_P</th>\n",
              "      <td>418.908733</td>\n",
              "    </tr>\n",
              "    <tr>\n",
              "      <th>ES_Q</th>\n",
              "      <td>334.763028</td>\n",
              "    </tr>\n",
              "    <tr>\n",
              "      <th>ES_R</th>\n",
              "      <td>787.950180</td>\n",
              "    </tr>\n",
              "    <tr>\n",
              "      <th>ES_S</th>\n",
              "      <td>559.921589</td>\n",
              "    </tr>\n",
              "    <tr>\n",
              "      <th>ES_T</th>\n",
              "      <td>0.000000</td>\n",
              "    </tr>\n",
              "    <tr>\n",
              "      <th>ES_U</th>\n",
              "      <td>0.000000</td>\n",
              "    </tr>\n",
              "  </tbody>\n",
              "</table>\n",
              "</div>\n",
              "    <div class=\"colab-df-buttons\">\n",
              "\n",
              "  <div class=\"colab-df-container\">\n",
              "    <button class=\"colab-df-convert\" onclick=\"convertToInteractive('df-5618d7f5-e4e9-4bb7-852d-55f61f44d4fe')\"\n",
              "            title=\"Convert this dataframe to an interactive table.\"\n",
              "            style=\"display:none;\">\n",
              "\n",
              "  <svg xmlns=\"http://www.w3.org/2000/svg\" height=\"24px\" viewBox=\"0 -960 960 960\">\n",
              "    <path d=\"M120-120v-720h720v720H120Zm60-500h600v-160H180v160Zm220 220h160v-160H400v160Zm0 220h160v-160H400v160ZM180-400h160v-160H180v160Zm440 0h160v-160H620v160ZM180-180h160v-160H180v160Zm440 0h160v-160H620v160Z\"/>\n",
              "  </svg>\n",
              "    </button>\n",
              "\n",
              "  <style>\n",
              "    .colab-df-container {\n",
              "      display:flex;\n",
              "      gap: 12px;\n",
              "    }\n",
              "\n",
              "    .colab-df-convert {\n",
              "      background-color: #E8F0FE;\n",
              "      border: none;\n",
              "      border-radius: 50%;\n",
              "      cursor: pointer;\n",
              "      display: none;\n",
              "      fill: #1967D2;\n",
              "      height: 32px;\n",
              "      padding: 0 0 0 0;\n",
              "      width: 32px;\n",
              "    }\n",
              "\n",
              "    .colab-df-convert:hover {\n",
              "      background-color: #E2EBFA;\n",
              "      box-shadow: 0px 1px 2px rgba(60, 64, 67, 0.3), 0px 1px 3px 1px rgba(60, 64, 67, 0.15);\n",
              "      fill: #174EA6;\n",
              "    }\n",
              "\n",
              "    .colab-df-buttons div {\n",
              "      margin-bottom: 4px;\n",
              "    }\n",
              "\n",
              "    [theme=dark] .colab-df-convert {\n",
              "      background-color: #3B4455;\n",
              "      fill: #D2E3FC;\n",
              "    }\n",
              "\n",
              "    [theme=dark] .colab-df-convert:hover {\n",
              "      background-color: #434B5C;\n",
              "      box-shadow: 0px 1px 3px 1px rgba(0, 0, 0, 0.15);\n",
              "      filter: drop-shadow(0px 1px 2px rgba(0, 0, 0, 0.3));\n",
              "      fill: #FFFFFF;\n",
              "    }\n",
              "  </style>\n",
              "\n",
              "    <script>\n",
              "      const buttonEl =\n",
              "        document.querySelector('#df-5618d7f5-e4e9-4bb7-852d-55f61f44d4fe button.colab-df-convert');\n",
              "      buttonEl.style.display =\n",
              "        google.colab.kernel.accessAllowed ? 'block' : 'none';\n",
              "\n",
              "      async function convertToInteractive(key) {\n",
              "        const element = document.querySelector('#df-5618d7f5-e4e9-4bb7-852d-55f61f44d4fe');\n",
              "        const dataTable =\n",
              "          await google.colab.kernel.invokeFunction('convertToInteractive',\n",
              "                                                    [key], {});\n",
              "        if (!dataTable) return;\n",
              "\n",
              "        const docLinkHtml = 'Like what you see? Visit the ' +\n",
              "          '<a target=\"_blank\" href=https://colab.research.google.com/notebooks/data_table.ipynb>data table notebook</a>'\n",
              "          + ' to learn more about interactive tables.';\n",
              "        element.innerHTML = '';\n",
              "        dataTable['output_type'] = 'display_data';\n",
              "        await google.colab.output.renderOutput(dataTable, element);\n",
              "        const docLink = document.createElement('div');\n",
              "        docLink.innerHTML = docLinkHtml;\n",
              "        element.appendChild(docLink);\n",
              "      }\n",
              "    </script>\n",
              "  </div>\n",
              "\n",
              "\n",
              "<div id=\"df-8ff71937-1670-44fa-beec-19745d88376a\">\n",
              "  <button class=\"colab-df-quickchart\" onclick=\"quickchart('df-8ff71937-1670-44fa-beec-19745d88376a')\"\n",
              "            title=\"Suggest charts\"\n",
              "            style=\"display:none;\">\n",
              "\n",
              "<svg xmlns=\"http://www.w3.org/2000/svg\" height=\"24px\"viewBox=\"0 0 24 24\"\n",
              "     width=\"24px\">\n",
              "    <g>\n",
              "        <path d=\"M19 3H5c-1.1 0-2 .9-2 2v14c0 1.1.9 2 2 2h14c1.1 0 2-.9 2-2V5c0-1.1-.9-2-2-2zM9 17H7v-7h2v7zm4 0h-2V7h2v10zm4 0h-2v-4h2v4z\"/>\n",
              "    </g>\n",
              "</svg>\n",
              "  </button>\n",
              "\n",
              "<style>\n",
              "  .colab-df-quickchart {\n",
              "      --bg-color: #E8F0FE;\n",
              "      --fill-color: #1967D2;\n",
              "      --hover-bg-color: #E2EBFA;\n",
              "      --hover-fill-color: #174EA6;\n",
              "      --disabled-fill-color: #AAA;\n",
              "      --disabled-bg-color: #DDD;\n",
              "  }\n",
              "\n",
              "  [theme=dark] .colab-df-quickchart {\n",
              "      --bg-color: #3B4455;\n",
              "      --fill-color: #D2E3FC;\n",
              "      --hover-bg-color: #434B5C;\n",
              "      --hover-fill-color: #FFFFFF;\n",
              "      --disabled-bg-color: #3B4455;\n",
              "      --disabled-fill-color: #666;\n",
              "  }\n",
              "\n",
              "  .colab-df-quickchart {\n",
              "    background-color: var(--bg-color);\n",
              "    border: none;\n",
              "    border-radius: 50%;\n",
              "    cursor: pointer;\n",
              "    display: none;\n",
              "    fill: var(--fill-color);\n",
              "    height: 32px;\n",
              "    padding: 0;\n",
              "    width: 32px;\n",
              "  }\n",
              "\n",
              "  .colab-df-quickchart:hover {\n",
              "    background-color: var(--hover-bg-color);\n",
              "    box-shadow: 0 1px 2px rgba(60, 64, 67, 0.3), 0 1px 3px 1px rgba(60, 64, 67, 0.15);\n",
              "    fill: var(--button-hover-fill-color);\n",
              "  }\n",
              "\n",
              "  .colab-df-quickchart-complete:disabled,\n",
              "  .colab-df-quickchart-complete:disabled:hover {\n",
              "    background-color: var(--disabled-bg-color);\n",
              "    fill: var(--disabled-fill-color);\n",
              "    box-shadow: none;\n",
              "  }\n",
              "\n",
              "  .colab-df-spinner {\n",
              "    border: 2px solid var(--fill-color);\n",
              "    border-color: transparent;\n",
              "    border-bottom-color: var(--fill-color);\n",
              "    animation:\n",
              "      spin 1s steps(1) infinite;\n",
              "  }\n",
              "\n",
              "  @keyframes spin {\n",
              "    0% {\n",
              "      border-color: transparent;\n",
              "      border-bottom-color: var(--fill-color);\n",
              "      border-left-color: var(--fill-color);\n",
              "    }\n",
              "    20% {\n",
              "      border-color: transparent;\n",
              "      border-left-color: var(--fill-color);\n",
              "      border-top-color: var(--fill-color);\n",
              "    }\n",
              "    30% {\n",
              "      border-color: transparent;\n",
              "      border-left-color: var(--fill-color);\n",
              "      border-top-color: var(--fill-color);\n",
              "      border-right-color: var(--fill-color);\n",
              "    }\n",
              "    40% {\n",
              "      border-color: transparent;\n",
              "      border-right-color: var(--fill-color);\n",
              "      border-top-color: var(--fill-color);\n",
              "    }\n",
              "    60% {\n",
              "      border-color: transparent;\n",
              "      border-right-color: var(--fill-color);\n",
              "    }\n",
              "    80% {\n",
              "      border-color: transparent;\n",
              "      border-right-color: var(--fill-color);\n",
              "      border-bottom-color: var(--fill-color);\n",
              "    }\n",
              "    90% {\n",
              "      border-color: transparent;\n",
              "      border-bottom-color: var(--fill-color);\n",
              "    }\n",
              "  }\n",
              "</style>\n",
              "\n",
              "  <script>\n",
              "    async function quickchart(key) {\n",
              "      const quickchartButtonEl =\n",
              "        document.querySelector('#' + key + ' button');\n",
              "      quickchartButtonEl.disabled = true;  // To prevent multiple clicks.\n",
              "      quickchartButtonEl.classList.add('colab-df-spinner');\n",
              "      try {\n",
              "        const charts = await google.colab.kernel.invokeFunction(\n",
              "            'suggestCharts', [key], {});\n",
              "      } catch (error) {\n",
              "        console.error('Error during call to suggestCharts:', error);\n",
              "      }\n",
              "      quickchartButtonEl.classList.remove('colab-df-spinner');\n",
              "      quickchartButtonEl.classList.add('colab-df-quickchart-complete');\n",
              "    }\n",
              "    (() => {\n",
              "      let quickchartButtonEl =\n",
              "        document.querySelector('#df-8ff71937-1670-44fa-beec-19745d88376a button');\n",
              "      quickchartButtonEl.style.display =\n",
              "        google.colab.kernel.accessAllowed ? 'block' : 'none';\n",
              "    })();\n",
              "  </script>\n",
              "</div>\n",
              "\n",
              "  <div id=\"id_8f7bc247-a70a-40fd-be67-bf515111dfdd\">\n",
              "    <style>\n",
              "      .colab-df-generate {\n",
              "        background-color: #E8F0FE;\n",
              "        border: none;\n",
              "        border-radius: 50%;\n",
              "        cursor: pointer;\n",
              "        display: none;\n",
              "        fill: #1967D2;\n",
              "        height: 32px;\n",
              "        padding: 0 0 0 0;\n",
              "        width: 32px;\n",
              "      }\n",
              "\n",
              "      .colab-df-generate:hover {\n",
              "        background-color: #E2EBFA;\n",
              "        box-shadow: 0px 1px 2px rgba(60, 64, 67, 0.3), 0px 1px 3px 1px rgba(60, 64, 67, 0.15);\n",
              "        fill: #174EA6;\n",
              "      }\n",
              "\n",
              "      [theme=dark] .colab-df-generate {\n",
              "        background-color: #3B4455;\n",
              "        fill: #D2E3FC;\n",
              "      }\n",
              "\n",
              "      [theme=dark] .colab-df-generate:hover {\n",
              "        background-color: #434B5C;\n",
              "        box-shadow: 0px 1px 3px 1px rgba(0, 0, 0, 0.15);\n",
              "        filter: drop-shadow(0px 1px 2px rgba(0, 0, 0, 0.3));\n",
              "        fill: #FFFFFF;\n",
              "      }\n",
              "    </style>\n",
              "    <button class=\"colab-df-generate\" onclick=\"generateWithVariable('va_ES_exp')\"\n",
              "            title=\"Generate code using this dataframe.\"\n",
              "            style=\"display:none;\">\n",
              "\n",
              "  <svg xmlns=\"http://www.w3.org/2000/svg\" height=\"24px\"viewBox=\"0 0 24 24\"\n",
              "       width=\"24px\">\n",
              "    <path d=\"M7,19H8.4L18.45,9,17,7.55,7,17.6ZM5,21V16.75L18.45,3.32a2,2,0,0,1,2.83,0l1.4,1.43a1.91,1.91,0,0,1,.58,1.4,1.91,1.91,0,0,1-.58,1.4L9.25,21ZM18.45,9,17,7.55Zm-12,3A5.31,5.31,0,0,0,4.9,8.1,5.31,5.31,0,0,0,1,6.5,5.31,5.31,0,0,0,4.9,4.9,5.31,5.31,0,0,0,6.5,1,5.31,5.31,0,0,0,8.1,4.9,5.31,5.31,0,0,0,12,6.5,5.46,5.46,0,0,0,6.5,12Z\"/>\n",
              "  </svg>\n",
              "    </button>\n",
              "    <script>\n",
              "      (() => {\n",
              "      const buttonEl =\n",
              "        document.querySelector('#id_8f7bc247-a70a-40fd-be67-bf515111dfdd button.colab-df-generate');\n",
              "      buttonEl.style.display =\n",
              "        google.colab.kernel.accessAllowed ? 'block' : 'none';\n",
              "\n",
              "      buttonEl.onclick = () => {\n",
              "        google.colab.notebook.generateWithVariable('va_ES_exp');\n",
              "      }\n",
              "      })();\n",
              "    </script>\n",
              "  </div>\n",
              "\n",
              "    </div>\n",
              "  </div>\n"
            ],
            "application/vnd.google.colaboratory.intrinsic+json": {
              "type": "dataframe",
              "variable_name": "va_ES_exp",
              "summary": "{\n  \"name\": \"va_ES_exp\",\n  \"rows\": 21,\n  \"fields\": [\n    {\n      \"column\": \"columna\",\n      \"properties\": {\n        \"dtype\": \"string\",\n        \"num_unique_values\": 21,\n        \"samples\": [\n          \"ES_A\",\n          \"ES_R\",\n          \"ES_P\"\n        ],\n        \"semantic_type\": \"\",\n        \"description\": \"\"\n      }\n    },\n    {\n      \"column\": 0,\n      \"properties\": {\n        \"dtype\": \"number\",\n        \"std\": 28224.113862329094,\n        \"min\": 0.0,\n        \"max\": 124877.44486488806,\n        \"num_unique_values\": 20,\n        \"samples\": [\n          17094.959110719334,\n          787.9501797428593,\n          418.90873282067315\n        ],\n        \"semantic_type\": \"\",\n        \"description\": \"\"\n      }\n    }\n  ]\n}"
            }
          },
          "metadata": {},
          "execution_count": 89
        }
      ]
    },
    {
      "cell_type": "code",
      "source": [],
      "metadata": {
        "id": "wUGm3X6ipgjF"
      },
      "execution_count": null,
      "outputs": []
    },
    {
      "cell_type": "markdown",
      "source": [
        "# Grafico coropletico con BTR"
      ],
      "metadata": {
        "id": "nktrbC63y5iA"
      }
    },
    {
      "cell_type": "code",
      "source": [
        "pip install pycountry"
      ],
      "metadata": {
        "id": "rI3VIqMR40ig",
        "colab": {
          "base_uri": "https://localhost:8080/"
        },
        "outputId": "6b810319-a514-4de5-ef61-ae9b8f597f4f"
      },
      "execution_count": null,
      "outputs": [
        {
          "output_type": "stream",
          "name": "stdout",
          "text": [
            "Collecting pycountry\n",
            "  Downloading pycountry-24.6.1-py3-none-any.whl (6.3 MB)\n",
            "\u001b[2K     \u001b[90m━━━━━━━━━━━━━━━━━━━━━━━━━━━━━━━━━━━━━━━━\u001b[0m \u001b[32m6.3/6.3 MB\u001b[0m \u001b[31m28.8 MB/s\u001b[0m eta \u001b[36m0:00:00\u001b[0m\n",
            "\u001b[?25hInstalling collected packages: pycountry\n",
            "Successfully installed pycountry-24.6.1\n"
          ]
        }
      ]
    },
    {
      "cell_type": "code",
      "source": [
        "import pycountry\n",
        "\n",
        "# crear un diccionario \"clave:valor = alpha_2:alpha_3\"\n",
        "\n",
        "alphas={pais.alpha_2:pais.alpha_3 for pais in pycountry.countries}\n",
        "alphas"
      ],
      "metadata": {
        "id": "aiLEqK1Y6re3"
      },
      "execution_count": null,
      "outputs": []
    },
    {
      "cell_type": "code",
      "source": [
        "# Añadir la columna alpha_3 a BTR\n",
        "\n",
        "BTR['alpha_3']=BTR['geo_columna'].map(alphas)"
      ],
      "metadata": {
        "id": "Ajc9TFLiB96m"
      },
      "execution_count": null,
      "outputs": []
    },
    {
      "cell_type": "code",
      "source": [
        "import plotly.express as px\n",
        "\n",
        "\n",
        "# Seleccionar el pais\n",
        "pais='CN'\n",
        "\n",
        "BTR_ES=BTR.loc[BTR['geo_fila']==pais]\n",
        "\n",
        "# Crear el gráfico coroplético\n",
        "fig = px.choropleth(BTR_ES,\n",
        "      locations=\"alpha_3\",\n",
        "      color=\"XobsValue\",\n",
        "      hover_name=\"alpha_3\",\n",
        "      color_continuous_scale=px.colors.sequential.Plasma)\n",
        "\n",
        "fig.update_layout(title_text=f'Exportaciones de {pais}', title_font=dict(size=16))\n",
        "fig.show()"
      ],
      "metadata": {
        "colab": {
          "base_uri": "https://localhost:8080/",
          "height": 542
        },
        "id": "iFquh5Imx5ja",
        "outputId": "5eb5b72d-a7da-4e96-af64-928e8ae4cc0e"
      },
      "execution_count": null,
      "outputs": [
        {
          "output_type": "display_data",
          "data": {
            "text/html": [
              "<html>\n",
              "<head><meta charset=\"utf-8\" /></head>\n",
              "<body>\n",
              "    <div>            <script src=\"https://cdnjs.cloudflare.com/ajax/libs/mathjax/2.7.5/MathJax.js?config=TeX-AMS-MML_SVG\"></script><script type=\"text/javascript\">if (window.MathJax && window.MathJax.Hub && window.MathJax.Hub.Config) {window.MathJax.Hub.Config({SVG: {font: \"STIX-Web\"}});}</script>                <script type=\"text/javascript\">window.PlotlyConfig = {MathJaxConfig: 'local'};</script>\n",
              "        <script charset=\"utf-8\" src=\"https://cdn.plot.ly/plotly-2.24.1.min.js\"></script>                <div id=\"bad02c02-b9f4-4397-9a6f-7e06f81de00c\" class=\"plotly-graph-div\" style=\"height:525px; width:100%;\"></div>            <script type=\"text/javascript\">                                    window.PLOTLYENV=window.PLOTLYENV || {};                                    if (document.getElementById(\"bad02c02-b9f4-4397-9a6f-7e06f81de00c\")) {                    Plotly.newPlot(                        \"bad02c02-b9f4-4397-9a6f-7e06f81de00c\",                        [{\"coloraxis\":\"coloraxis\",\"geo\":\"geo\",\"hovertemplate\":\"\\u003cb\\u003e%{hovertext}\\u003c\\u002fb\\u003e\\u003cbr\\u003e\\u003cbr\\u003ealpha_3=%{location}\\u003cbr\\u003eXobsValue=%{z}\\u003cextra\\u003e\\u003c\\u002fextra\\u003e\",\"hovertext\":[\"ARG\",\"AUT\",\"AUS\",\"BEL\",\"BGR\",\"BRA\",\"CAN\",\"CHE\",\"CHN\",\"CYP\",\"CZE\",\"DEU\",\"DNK\",\"EST\",\"ESP\",\"FIN\",null,\"FRA\",\"GBR\",\"GRC\",\"HRV\",\"HUN\",\"IDN\",\"IRL\",\"IND\",\"ITA\",\"JPN\",\"KOR\",\"LTU\",\"LUX\",\"LVA\",\"MLT\",\"MEX\",\"NLD\",\"NOR\",\"POL\",\"PRT\",\"ROU\",\"RUS\",\"SAU\",\"SWE\",\"SVN\",\"SVK\",\"TUR\",\"USA\",\"ZAF\"],\"locations\":[\"ARG\",\"AUT\",\"AUS\",\"BEL\",\"BGR\",\"BRA\",\"CAN\",\"CHE\",\"CHN\",\"CYP\",\"CZE\",\"DEU\",\"DNK\",\"EST\",\"ESP\",\"FIN\",null,\"FRA\",\"GBR\",\"GRC\",\"HRV\",\"HUN\",\"IDN\",\"IRL\",\"IND\",\"ITA\",\"JPN\",\"KOR\",\"LTU\",\"LUX\",\"LVA\",\"MLT\",\"MEX\",\"NLD\",\"NOR\",\"POL\",\"PRT\",\"ROU\",\"RUS\",\"SAU\",\"SWE\",\"SVN\",\"SVK\",\"TUR\",\"USA\",\"ZAF\"],\"name\":\"\",\"z\":[3850.747,5059.384,34802.698,3027.781,1342.866,18990.049,39824.797,11559.896,0.0,192.842,11307.792,47620.866,5154.122,845.876,20528.316,4058.59,503858.002,25062.134000000002,25772.368,1680.109,573.517,5498.728,33413.239,1933.054,58042.365,23461.686999999998,97597.416,116318.573,606.656,347.12100000000004,333.018,132.582,77084.331,11051.457,6575.347,18073.602,2869.876,2959.497,29127.303,5876.718,4494.388,1533.494,3659.581,16763.891,164140.801,12136.791],\"type\":\"choropleth\"}],                        {\"template\":{\"data\":{\"histogram2dcontour\":[{\"type\":\"histogram2dcontour\",\"colorbar\":{\"outlinewidth\":0,\"ticks\":\"\"},\"colorscale\":[[0.0,\"#0d0887\"],[0.1111111111111111,\"#46039f\"],[0.2222222222222222,\"#7201a8\"],[0.3333333333333333,\"#9c179e\"],[0.4444444444444444,\"#bd3786\"],[0.5555555555555556,\"#d8576b\"],[0.6666666666666666,\"#ed7953\"],[0.7777777777777778,\"#fb9f3a\"],[0.8888888888888888,\"#fdca26\"],[1.0,\"#f0f921\"]]}],\"choropleth\":[{\"type\":\"choropleth\",\"colorbar\":{\"outlinewidth\":0,\"ticks\":\"\"}}],\"histogram2d\":[{\"type\":\"histogram2d\",\"colorbar\":{\"outlinewidth\":0,\"ticks\":\"\"},\"colorscale\":[[0.0,\"#0d0887\"],[0.1111111111111111,\"#46039f\"],[0.2222222222222222,\"#7201a8\"],[0.3333333333333333,\"#9c179e\"],[0.4444444444444444,\"#bd3786\"],[0.5555555555555556,\"#d8576b\"],[0.6666666666666666,\"#ed7953\"],[0.7777777777777778,\"#fb9f3a\"],[0.8888888888888888,\"#fdca26\"],[1.0,\"#f0f921\"]]}],\"heatmap\":[{\"type\":\"heatmap\",\"colorbar\":{\"outlinewidth\":0,\"ticks\":\"\"},\"colorscale\":[[0.0,\"#0d0887\"],[0.1111111111111111,\"#46039f\"],[0.2222222222222222,\"#7201a8\"],[0.3333333333333333,\"#9c179e\"],[0.4444444444444444,\"#bd3786\"],[0.5555555555555556,\"#d8576b\"],[0.6666666666666666,\"#ed7953\"],[0.7777777777777778,\"#fb9f3a\"],[0.8888888888888888,\"#fdca26\"],[1.0,\"#f0f921\"]]}],\"heatmapgl\":[{\"type\":\"heatmapgl\",\"colorbar\":{\"outlinewidth\":0,\"ticks\":\"\"},\"colorscale\":[[0.0,\"#0d0887\"],[0.1111111111111111,\"#46039f\"],[0.2222222222222222,\"#7201a8\"],[0.3333333333333333,\"#9c179e\"],[0.4444444444444444,\"#bd3786\"],[0.5555555555555556,\"#d8576b\"],[0.6666666666666666,\"#ed7953\"],[0.7777777777777778,\"#fb9f3a\"],[0.8888888888888888,\"#fdca26\"],[1.0,\"#f0f921\"]]}],\"contourcarpet\":[{\"type\":\"contourcarpet\",\"colorbar\":{\"outlinewidth\":0,\"ticks\":\"\"}}],\"contour\":[{\"type\":\"contour\",\"colorbar\":{\"outlinewidth\":0,\"ticks\":\"\"},\"colorscale\":[[0.0,\"#0d0887\"],[0.1111111111111111,\"#46039f\"],[0.2222222222222222,\"#7201a8\"],[0.3333333333333333,\"#9c179e\"],[0.4444444444444444,\"#bd3786\"],[0.5555555555555556,\"#d8576b\"],[0.6666666666666666,\"#ed7953\"],[0.7777777777777778,\"#fb9f3a\"],[0.8888888888888888,\"#fdca26\"],[1.0,\"#f0f921\"]]}],\"surface\":[{\"type\":\"surface\",\"colorbar\":{\"outlinewidth\":0,\"ticks\":\"\"},\"colorscale\":[[0.0,\"#0d0887\"],[0.1111111111111111,\"#46039f\"],[0.2222222222222222,\"#7201a8\"],[0.3333333333333333,\"#9c179e\"],[0.4444444444444444,\"#bd3786\"],[0.5555555555555556,\"#d8576b\"],[0.6666666666666666,\"#ed7953\"],[0.7777777777777778,\"#fb9f3a\"],[0.8888888888888888,\"#fdca26\"],[1.0,\"#f0f921\"]]}],\"mesh3d\":[{\"type\":\"mesh3d\",\"colorbar\":{\"outlinewidth\":0,\"ticks\":\"\"}}],\"scatter\":[{\"fillpattern\":{\"fillmode\":\"overlay\",\"size\":10,\"solidity\":0.2},\"type\":\"scatter\"}],\"parcoords\":[{\"type\":\"parcoords\",\"line\":{\"colorbar\":{\"outlinewidth\":0,\"ticks\":\"\"}}}],\"scatterpolargl\":[{\"type\":\"scatterpolargl\",\"marker\":{\"colorbar\":{\"outlinewidth\":0,\"ticks\":\"\"}}}],\"bar\":[{\"error_x\":{\"color\":\"#2a3f5f\"},\"error_y\":{\"color\":\"#2a3f5f\"},\"marker\":{\"line\":{\"color\":\"#E5ECF6\",\"width\":0.5},\"pattern\":{\"fillmode\":\"overlay\",\"size\":10,\"solidity\":0.2}},\"type\":\"bar\"}],\"scattergeo\":[{\"type\":\"scattergeo\",\"marker\":{\"colorbar\":{\"outlinewidth\":0,\"ticks\":\"\"}}}],\"scatterpolar\":[{\"type\":\"scatterpolar\",\"marker\":{\"colorbar\":{\"outlinewidth\":0,\"ticks\":\"\"}}}],\"histogram\":[{\"marker\":{\"pattern\":{\"fillmode\":\"overlay\",\"size\":10,\"solidity\":0.2}},\"type\":\"histogram\"}],\"scattergl\":[{\"type\":\"scattergl\",\"marker\":{\"colorbar\":{\"outlinewidth\":0,\"ticks\":\"\"}}}],\"scatter3d\":[{\"type\":\"scatter3d\",\"line\":{\"colorbar\":{\"outlinewidth\":0,\"ticks\":\"\"}},\"marker\":{\"colorbar\":{\"outlinewidth\":0,\"ticks\":\"\"}}}],\"scattermapbox\":[{\"type\":\"scattermapbox\",\"marker\":{\"colorbar\":{\"outlinewidth\":0,\"ticks\":\"\"}}}],\"scatterternary\":[{\"type\":\"scatterternary\",\"marker\":{\"colorbar\":{\"outlinewidth\":0,\"ticks\":\"\"}}}],\"scattercarpet\":[{\"type\":\"scattercarpet\",\"marker\":{\"colorbar\":{\"outlinewidth\":0,\"ticks\":\"\"}}}],\"carpet\":[{\"aaxis\":{\"endlinecolor\":\"#2a3f5f\",\"gridcolor\":\"white\",\"linecolor\":\"white\",\"minorgridcolor\":\"white\",\"startlinecolor\":\"#2a3f5f\"},\"baxis\":{\"endlinecolor\":\"#2a3f5f\",\"gridcolor\":\"white\",\"linecolor\":\"white\",\"minorgridcolor\":\"white\",\"startlinecolor\":\"#2a3f5f\"},\"type\":\"carpet\"}],\"table\":[{\"cells\":{\"fill\":{\"color\":\"#EBF0F8\"},\"line\":{\"color\":\"white\"}},\"header\":{\"fill\":{\"color\":\"#C8D4E3\"},\"line\":{\"color\":\"white\"}},\"type\":\"table\"}],\"barpolar\":[{\"marker\":{\"line\":{\"color\":\"#E5ECF6\",\"width\":0.5},\"pattern\":{\"fillmode\":\"overlay\",\"size\":10,\"solidity\":0.2}},\"type\":\"barpolar\"}],\"pie\":[{\"automargin\":true,\"type\":\"pie\"}]},\"layout\":{\"autotypenumbers\":\"strict\",\"colorway\":[\"#636efa\",\"#EF553B\",\"#00cc96\",\"#ab63fa\",\"#FFA15A\",\"#19d3f3\",\"#FF6692\",\"#B6E880\",\"#FF97FF\",\"#FECB52\"],\"font\":{\"color\":\"#2a3f5f\"},\"hovermode\":\"closest\",\"hoverlabel\":{\"align\":\"left\"},\"paper_bgcolor\":\"white\",\"plot_bgcolor\":\"#E5ECF6\",\"polar\":{\"bgcolor\":\"#E5ECF6\",\"angularaxis\":{\"gridcolor\":\"white\",\"linecolor\":\"white\",\"ticks\":\"\"},\"radialaxis\":{\"gridcolor\":\"white\",\"linecolor\":\"white\",\"ticks\":\"\"}},\"ternary\":{\"bgcolor\":\"#E5ECF6\",\"aaxis\":{\"gridcolor\":\"white\",\"linecolor\":\"white\",\"ticks\":\"\"},\"baxis\":{\"gridcolor\":\"white\",\"linecolor\":\"white\",\"ticks\":\"\"},\"caxis\":{\"gridcolor\":\"white\",\"linecolor\":\"white\",\"ticks\":\"\"}},\"coloraxis\":{\"colorbar\":{\"outlinewidth\":0,\"ticks\":\"\"}},\"colorscale\":{\"sequential\":[[0.0,\"#0d0887\"],[0.1111111111111111,\"#46039f\"],[0.2222222222222222,\"#7201a8\"],[0.3333333333333333,\"#9c179e\"],[0.4444444444444444,\"#bd3786\"],[0.5555555555555556,\"#d8576b\"],[0.6666666666666666,\"#ed7953\"],[0.7777777777777778,\"#fb9f3a\"],[0.8888888888888888,\"#fdca26\"],[1.0,\"#f0f921\"]],\"sequentialminus\":[[0.0,\"#0d0887\"],[0.1111111111111111,\"#46039f\"],[0.2222222222222222,\"#7201a8\"],[0.3333333333333333,\"#9c179e\"],[0.4444444444444444,\"#bd3786\"],[0.5555555555555556,\"#d8576b\"],[0.6666666666666666,\"#ed7953\"],[0.7777777777777778,\"#fb9f3a\"],[0.8888888888888888,\"#fdca26\"],[1.0,\"#f0f921\"]],\"diverging\":[[0,\"#8e0152\"],[0.1,\"#c51b7d\"],[0.2,\"#de77ae\"],[0.3,\"#f1b6da\"],[0.4,\"#fde0ef\"],[0.5,\"#f7f7f7\"],[0.6,\"#e6f5d0\"],[0.7,\"#b8e186\"],[0.8,\"#7fbc41\"],[0.9,\"#4d9221\"],[1,\"#276419\"]]},\"xaxis\":{\"gridcolor\":\"white\",\"linecolor\":\"white\",\"ticks\":\"\",\"title\":{\"standoff\":15},\"zerolinecolor\":\"white\",\"automargin\":true,\"zerolinewidth\":2},\"yaxis\":{\"gridcolor\":\"white\",\"linecolor\":\"white\",\"ticks\":\"\",\"title\":{\"standoff\":15},\"zerolinecolor\":\"white\",\"automargin\":true,\"zerolinewidth\":2},\"scene\":{\"xaxis\":{\"backgroundcolor\":\"#E5ECF6\",\"gridcolor\":\"white\",\"linecolor\":\"white\",\"showbackground\":true,\"ticks\":\"\",\"zerolinecolor\":\"white\",\"gridwidth\":2},\"yaxis\":{\"backgroundcolor\":\"#E5ECF6\",\"gridcolor\":\"white\",\"linecolor\":\"white\",\"showbackground\":true,\"ticks\":\"\",\"zerolinecolor\":\"white\",\"gridwidth\":2},\"zaxis\":{\"backgroundcolor\":\"#E5ECF6\",\"gridcolor\":\"white\",\"linecolor\":\"white\",\"showbackground\":true,\"ticks\":\"\",\"zerolinecolor\":\"white\",\"gridwidth\":2}},\"shapedefaults\":{\"line\":{\"color\":\"#2a3f5f\"}},\"annotationdefaults\":{\"arrowcolor\":\"#2a3f5f\",\"arrowhead\":0,\"arrowwidth\":1},\"geo\":{\"bgcolor\":\"white\",\"landcolor\":\"#E5ECF6\",\"subunitcolor\":\"white\",\"showland\":true,\"showlakes\":true,\"lakecolor\":\"white\"},\"title\":{\"x\":0.05},\"mapbox\":{\"style\":\"light\"}}},\"geo\":{\"domain\":{\"x\":[0.0,1.0],\"y\":[0.0,1.0]},\"center\":{}},\"coloraxis\":{\"colorbar\":{\"title\":{\"text\":\"XobsValue\"}},\"colorscale\":[[0.0,\"#0d0887\"],[0.1111111111111111,\"#46039f\"],[0.2222222222222222,\"#7201a8\"],[0.3333333333333333,\"#9c179e\"],[0.4444444444444444,\"#bd3786\"],[0.5555555555555556,\"#d8576b\"],[0.6666666666666666,\"#ed7953\"],[0.7777777777777778,\"#fb9f3a\"],[0.8888888888888888,\"#fdca26\"],[1.0,\"#f0f921\"]]},\"legend\":{\"tracegroupgap\":0},\"margin\":{\"t\":60},\"title\":{\"font\":{\"size\":16},\"text\":\"Exportaciones de CN\"}},                        {\"responsive\": true}                    ).then(function(){\n",
              "                            \n",
              "var gd = document.getElementById('bad02c02-b9f4-4397-9a6f-7e06f81de00c');\n",
              "var x = new MutationObserver(function (mutations, observer) {{\n",
              "        var display = window.getComputedStyle(gd).display;\n",
              "        if (!display || display === 'none') {{\n",
              "            console.log([gd, 'removed!']);\n",
              "            Plotly.purge(gd);\n",
              "            observer.disconnect();\n",
              "        }}\n",
              "}});\n",
              "\n",
              "// Listen for the removal of the full notebook cells\n",
              "var notebookContainer = gd.closest('#notebook-container');\n",
              "if (notebookContainer) {{\n",
              "    x.observe(notebookContainer, {childList: true});\n",
              "}}\n",
              "\n",
              "// Listen for the clearing of the current output cell\n",
              "var outputEl = gd.closest('.output');\n",
              "if (outputEl) {{\n",
              "    x.observe(outputEl, {childList: true});\n",
              "}}\n",
              "\n",
              "                        })                };                            </script>        </div>\n",
              "</body>\n",
              "</html>"
            ]
          },
          "metadata": {}
        }
      ]
    }
  ]
}